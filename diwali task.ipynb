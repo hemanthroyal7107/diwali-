{
 "cells": [
  {
   "cell_type": "markdown",
   "id": "6465526c",
   "metadata": {},
   "source": [
    "#  Count of Matches in Tournament\n",
    " You are given an integer n, the number of teams in a tournament that has strange rules:\n",
    " \n",
    " If the current number of teams is even, each team gets paired with another team. A total of n / 2 matches are played, and n / 2 teams advance to the next round.\n",
    " \n",
    " If the current number of teams is odd, one team randomly advances in the tournament, and the rest gets paired. A total of (n - 1) / 2 matches are played, and (n - 1) / 2 + 1 teams advance to the next round."
   ]
  },
  {
   "cell_type": "code",
   "execution_count": 12,
   "id": "a05c8ffa",
   "metadata": {},
   "outputs": [
    {
     "name": "stdout",
     "output_type": "stream",
     "text": [
      "The number of matches played until a winner is decided for 7 teams is: 6\n"
     ]
    }
   ],
   "source": [
    "def count_matches(n):\n",
    "    matches = 0\n",
    "    while n > 1:\n",
    "        if n % 2 == 0:\n",
    "            matches += n // 2\n",
    "            n //= 2\n",
    "        else:\n",
    "            matches += (n - 1) // 2\n",
    "            n = (n - 1) // 2 + 1\n",
    "    return matches\n",
    "n = 7\n",
    "result = count_matches(n)\n",
    "print(f\"The number of matches played until a winner is decided for {n} teams is: {result}\")\n"
   ]
  },
  {
   "cell_type": "code",
   "execution_count": 14,
   "id": "7bd0186e",
   "metadata": {},
   "outputs": [
    {
     "name": "stdout",
     "output_type": "stream",
     "text": [
      "The number of matches played until a winner is decided for 14 teams is: 13\n"
     ]
    }
   ],
   "source": [
    "def count_matches(n):\n",
    "    matches = 0\n",
    "    while n > 1:\n",
    "        if n % 2 == 0:\n",
    "            matches += n // 2\n",
    "            n //= 2\n",
    "        else: \n",
    "            matches += (n - 1) // 2\n",
    "            n = (n - 1) // 2 + 1\n",
    "    return matches\n",
    "n = 14\n",
    "result = count_matches(n)\n",
    "print(f\"The number of matches played until a winner is decided for {n} teams is: {result}\")"
   ]
  },
  {
   "cell_type": "markdown",
   "id": "a906a84e",
   "metadata": {},
   "source": [
    "#  Goal Parser Interpretation\n",
    " You own a Goal Parser that can interpret a string command. The command consists of an alphabet of \"G\", \"()\" and/or \"(al)\" in some order. The Goal Parser will interpret \"G\" as the string \"G\", \"()\" as the string \"o\", and \"(al)\" as the string \"al\". The interpreted strings are then concatenated in the original order.\n",
    "    \n",
    "Given the string command, return the Goal Parser's interpretation of command.\n"
   ]
  },
  {
   "cell_type": "markdown",
   "id": "76957375",
   "metadata": {},
   "source": [
    "def interpret(command):\n",
    "    result = \"\"\n",
    "    i = 0\n",
    "    while i < len(command):\n",
    "        if command[i] == 'G':\n",
    "            result += 'G'\n",
    "            i += 1\n",
    "        elif command[i] == '(' and command[i+1] == ')':\n",
    "            result += 'o'\n",
    "            i += 2\n",
    "        elif command[i:i+4] == \"(al)\":\n",
    "            result += 'al'\n",
    "            i += 4\n",
    "        else:\n",
    "            i += 1\n",
    "    return result\n",
    "command = \"G()()()()(al)\"\n",
    "result = interpret(command)\n",
    "print(result)\n"
   ]
  },
  {
   "cell_type": "code",
   "execution_count": 9,
   "id": "a7ea6a10",
   "metadata": {},
   "outputs": [
    {
     "name": "stdout",
     "output_type": "stream",
     "text": [
      "Goal\n"
     ]
    }
   ],
   "source": [
    "def interpret(command):\n",
    "    result = \"\"\n",
    "    i = 0\n",
    "    while i < len(command):\n",
    "        if command[i] == 'G':\n",
    "            result += 'G'\n",
    "            i += 1\n",
    "        elif command[i:i+2] == '()':\n",
    "            result += 'o'\n",
    "            i += 2\n",
    "        elif command[i:i+4] == \"(al)\":\n",
    "            result += 'al'\n",
    "            i += 4\n",
    "        else:\n",
    "            i += 1\n",
    "    return result\n",
    "command = \"G()(al)\"\n",
    "result = interpret(command)\n",
    "print(result)\n"
   ]
  },
  {
   "cell_type": "code",
   "execution_count": 10,
   "id": "af15ff4d",
   "metadata": {},
   "outputs": [
    {
     "name": "stdout",
     "output_type": "stream",
     "text": [
      "Gooooal\n"
     ]
    }
   ],
   "source": [
    "def interpret(command):\n",
    "    result = \"\"\n",
    "    i = 0\n",
    "    while i < len(command):\n",
    "        if command[i] == 'G':\n",
    "            result += 'G'\n",
    "            i += 1\n",
    "        elif command[i] == '(' and command[i+1] == ')':\n",
    "            result += 'o'\n",
    "            i += 2\n",
    "        elif command[i:i+4] == \"(al)\":\n",
    "            result += 'al'\n",
    "            i += 4\n",
    "        else:\n",
    "            i += 1\n",
    "    return result\n",
    "command = \"G()()()()(al)\"\n",
    "result = interpret(command)\n",
    "print(result)\n"
   ]
  },
  {
   "cell_type": "code",
   "execution_count": null,
   "id": "58b9249b",
   "metadata": {},
   "outputs": [],
   "source": []
  },
  {
   "cell_type": "code",
   "execution_count": null,
   "id": "580137cd",
   "metadata": {},
   "outputs": [],
   "source": []
  }
 ],
 "metadata": {
  "kernelspec": {
   "display_name": "Python 3 (ipykernel)",
   "language": "python",
   "name": "python3"
  },
  "language_info": {
   "codemirror_mode": {
    "name": "ipython",
    "version": 3
   },
   "file_extension": ".py",
   "mimetype": "text/x-python",
   "name": "python",
   "nbconvert_exporter": "python",
   "pygments_lexer": "ipython3",
   "version": "3.11.5"
  }
 },
 "nbformat": 4,
 "nbformat_minor": 5
}
